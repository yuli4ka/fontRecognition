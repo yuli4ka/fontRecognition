{
  "nbformat": 4,
  "nbformat_minor": 0,
  "metadata": {
    "colab": {
      "name": "Untitled2.ipynb",
      "provenance": [],
      "collapsed_sections": [],
      "authorship_tag": "ABX9TyPDtDSt6qe6VuFLDiLCkhh8",
      "include_colab_link": true
    },
    "kernelspec": {
      "name": "python3",
      "display_name": "Python 3"
    }
  },
  "cells": [
    {
      "cell_type": "markdown",
      "metadata": {
        "id": "view-in-github",
        "colab_type": "text"
      },
      "source": [
        "<a href=\"https://colab.research.google.com/github/yuli4ka/fontRecognition/blob/main/fontRecognitionV4.ipynb\" target=\"_parent\"><img src=\"https://colab.research.google.com/assets/colab-badge.svg\" alt=\"Open In Colab\"/></a>"
      ]
    },
    {
      "cell_type": "code",
      "metadata": {
        "id": "x1QaTKyRWWU5"
      },
      "source": [
        "import zipfile\r\n",
        "import urllib.request\r\n",
        "import sys\r\n",
        "import random\r\n",
        "import pickle\r\n",
        "import matplotlib.pyplot as plt\r\n",
        "import pandas as pd\r\n",
        "import math\r\n",
        "import numpy as np\r\n",
        "import os"
      ],
      "execution_count": 1,
      "outputs": []
    },
    {
      "cell_type": "code",
      "metadata": {
        "id": "omgK2VpvXSzo"
      },
      "source": [
        "from keras.models import Model\r\n",
        "from keras.layers import Input, Dense, Dropout, Flatten\r\n",
        "from keras.layers.convolutional import Conv2D, MaxPooling2D\r\n",
        "from keras.optimizers import Adagrad\r\n",
        "from keras.constraints import maxnorm\r\n",
        "from keras.regularizers import l2\r\n",
        "from keras.utils import to_categorical\r\n",
        "from keras.models import Sequential\r\n",
        "from keras.layers import Convolution2D, MaxPooling2D\r\n",
        "from google.colab.patches import cv2_imshow"
      ],
      "execution_count": 2,
      "outputs": []
    },
    {
      "cell_type": "code",
      "metadata": {
        "id": "WYTxn6ssXX4w"
      },
      "source": [
        "np.random.seed(42) "
      ],
      "execution_count": 3,
      "outputs": []
    },
    {
      "cell_type": "code",
      "metadata": {
        "id": "XG-pWuFPXdWJ"
      },
      "source": [
        "download = \"https://archive.ics.uci.edu/ml/machine-learning-databases/00417/fonts.zip\"\r\n",
        "\r\n",
        "with urllib.request.urlopen( download ) as url:\r\n",
        "  output = open(\"./fonts.zip\", \"wb\")\r\n",
        "  output.write(url.read())\r\n",
        "  output.close()\r\n",
        "\r\n",
        "zip_ref = zipfile.ZipFile(\"./fonts.zip\", 'r')\r\n",
        "zip_ref.extractall(\"./fonts/\")\r\n",
        "zip_ref.close()"
      ],
      "execution_count": 4,
      "outputs": []
    },
    {
      "cell_type": "code",
      "metadata": {
        "colab": {
          "base_uri": "https://localhost:8080/"
        },
        "id": "Gc2kNR_Ygdvq",
        "outputId": "6e56eece-2c50-40a4-abcb-7ac5a40e33e4"
      },
      "source": [
        "!cd fonts/ && ls"
      ],
      "execution_count": 5,
      "outputs": [
        {
          "output_type": "stream",
          "text": [
            " AGENCY.csv\t       'FELIX TITLING.csv'     OCRB.csv\n",
            " ARIAL.csv\t        FOOTLIGHT.csv\t       ONYX.csv\n",
            " BAITI.csv\t        FORTE.csv\t       PALACE.csv\n",
            " BANKGOTHIC.csv         FRANKLIN.csv\t       PALATINO.csv\n",
            " BASKERVILLE.csv        FREESTYLE.csv\t       PANROMAN.csv\n",
            " BAUHAUS.csv\t        FRENCH.csv\t       PAPYRUS.csv\n",
            " BELL.csv\t        GABRIOLA.csv\t       PERPETUA.csv\n",
            " BERLIN.csv\t        GADUGI.csv\t       PHAGSPA.csv\n",
            " BERNARD.csv\t        GARAMOND.csv\t       PLAYBILL.csv\n",
            " BITSTREAMVERA.csv      GEORGIA.csv\t       PMINGLIU-EXTB.csv\n",
            " BLACKADDER.csv         GIGI.csv\t       PRISTINA.csv\n",
            " BODONI.csv\t        GILL.csv\t       PROXY.csv\n",
            " BOOK.csv\t        GLOUCESTER.csv\t       QUICKTYPE.csv\n",
            " BOOKMAN.csv\t        GOTHICE.csv\t       RAGE.csv\n",
            " BRADLEY.csv\t        GOUDY.csv\t       RAVIE.csv\n",
            " BRITANNIC.csv\t        GUNPLAY.csv\t       REFERENCE.csv\n",
            " BROADWAY.csv\t        HAETTENSCHWEILER.csv   RICHARD.csv\n",
            " BRUSH.csv\t        HANDPRINT.csv\t       ROCKWELL.csv\n",
            " BUXTON.csv\t        HARLOW.csv\t       ROMAN.csv\n",
            " CAARD.csv\t        HARRINGTON.csv\t       ROMANTIC.csv\n",
            " CALIBRI.csv\t       'HIGH TOWER.csv'        SANSSERIF.csv\n",
            " CALIFORNIAN.csv        HIMALAYA.csv\t       SCRIPTB.csv\n",
            " CALISTO.csv\t        IMPACT.csv\t       SCRIPT.csv\n",
            " CAMBRIA.csv\t        IMPRINT.csv\t       SEGOE.csv\n",
            " CANDARA.csv\t        INFORMAL.csv\t       SERIF.csv\n",
            " CASTELLAR.csv\t        ISOC.csv\t       SHOWCARD.csv\n",
            " CENTAUR.csv\t        ITALIC.csv\t       SIMPLEX.csv\n",
            " CENTURY.csv\t        JAVANESE.csv\t       SITKA.csv\n",
            " CHILLER.csv\t        JOKERMAN.csv\t       SKETCHFLOW.csv\n",
            " CITYBLUEPRINT.csv      JUICE.csv\t       SNAP.csv\n",
            " COMIC.csv\t        KRISTEN.csv\t       STENCIL.csv\n",
            " COMMERCIALSCRIPT.csv   KUNSTLER.csv\t       STYLUS.csv\n",
            " COMPLEX.csv\t        LEELAWADEE.csv\t       SUPERFRENCH.csv\n",
            " CONSOLAS.csv\t        LUCIDA.csv\t       SWIS721.csv\n",
            " CONSTANTIA.csv         MAGNETO.csv\t       SYLFAEN.csv\n",
            " COOPER.csv\t        MAIANDRA.csv\t       TAHOMA.csv\n",
            " COPPERPLATE.csv        MATURA.csv\t       TAI.csv\n",
            " CORBEL.csv\t        MINGLIU.csv\t       TECHNIC.csv\n",
            " COUNTRYBLUEPRINT.csv   MISTRAL.csv\t       TEMPUS.csv\n",
            " COURIER.csv\t        MODERN.csv\t       TIMES.csv\n",
            " CREDITCARD.csv         MONEY.csv\t       TREBUCHET.csv\n",
            " CURLZ.csv\t        MONOSPAC821.csv        TW.csv\n",
            " DUTCH801.csv\t        MONOTXT.csv\t       TXT.csv\n",
            " E13B.csv\t        MONOTYPE.csv\t       VERDANA.csv\n",
            " EBRIMA.csv\t        MV_BOLI.csv\t       VIN.csv\n",
            " EDWARDIAN.csv\t        MYANMAR.csv\t       VINER.csv\n",
            " ELEPHANT.csv\t        NIAGARA.csv\t       VINETA.csv\n",
            " ENGLISH.csv\t        NINA.csv\t       VIVALDI.csv\n",
            " ENGRAVERS.csv\t        NIRMALA.csv\t       VLADIMIR.csv\n",
            " ERAS.csv\t        NUMERICS.csv\t       WIDE.csv\n",
            " EUROROMAN.csv\t        OCRA.csv\t      'YI BAITI.csv'\n"
          ],
          "name": "stdout"
        }
      ]
    },
    {
      "cell_type": "code",
      "metadata": {
        "colab": {
          "base_uri": "https://localhost:8080/"
        },
        "id": "g7AGPmFfj--b",
        "outputId": "84e33a4c-ffff-42df-bba2-39cbfabb6bfa"
      },
      "source": [
        "print(pd.read_csv(\"./fonts/\"+\"NINA\"+\".csv\"))"
      ],
      "execution_count": 6,
      "outputs": [
        {
          "output_type": "stream",
          "text": [
            "      font fontVariant  m_label  strength  ...  r19c16  r19c17  r19c18  r19c19\n",
            "0     NINA        NINA    64258       0.4  ...     255     255     255     255\n",
            "1     NINA        NINA    64257       0.4  ...     255     255     255     255\n",
            "2     NINA        NINA    61444       0.4  ...       1       1       1       1\n",
            "3     NINA        NINA    61442       0.4  ...     255     255     255     255\n",
            "4     NINA        NINA    61441       0.4  ...     255     255     255     255\n",
            "...    ...         ...      ...       ...  ...     ...     ...     ...     ...\n",
            "2273  NINA        NINA       37       0.7  ...      19       1       1       1\n",
            "2274  NINA        NINA       36       0.7  ...       1       1       1       1\n",
            "2275  NINA        NINA       35       0.7  ...       1       1       1       1\n",
            "2276  NINA        NINA       34       0.7  ...       1       1       1       1\n",
            "2277  NINA        NINA       33       0.7  ...       1       1       1       1\n",
            "\n",
            "[2278 rows x 412 columns]\n"
          ],
          "name": "stdout"
        }
      ]
    },
    {
      "cell_type": "code",
      "metadata": {
        "id": "zfh0GqQPgyzA"
      },
      "source": [
        "FONTS_TO_TRAIN = ['ARIAL','CALIBRI', 'FRENCH', 'IMPACT', 'ITALIC', 'JAVANESE', 'JOKERMAN', 'JUICE', 'KRISTEN', \r\n",
        "                  'MAGNETO', 'MODERN', 'RAGE', 'ROMAN', 'TAHOMA', 'TIMES', 'VERDANA', 'VIVALDI']"
      ],
      "execution_count": 7,
      "outputs": []
    },
    {
      "cell_type": "code",
      "metadata": {
        "id": "AUgZ-pPmXph-"
      },
      "source": [
        "data = pd.concat([pd.read_csv(\"./fonts/\"+name+\".csv\") for name in FONTS_TO_TRAIN]).sample(frac=1)\r\n",
        "\r\n",
        "X = data.iloc[:,12:].values\r\n",
        "X = np.true_divide(X,255)\r\n",
        "\r\n",
        "idx_to_label = {idx:name for idx,name in enumerate(data.font.unique())}\r\n",
        "label_to_idx = dict([[v,k] for k,v in idx_to_label.items()])\r\n",
        "\r\n",
        "Y=data['font'].values\r\n",
        "Y = to_categorical(list(map(lambda x : label_to_idx[x], Y)), num_classes=len(data.font.unique()))\r\n",
        "\r\n",
        "splitpoint = int(math.floor(len(X)*0.8))\r\n",
        "\r\n",
        "X_train, X_test = X[:splitpoint], X[splitpoint:]\r\n",
        "Y_train, Y_test = Y[:splitpoint], Y[splitpoint:]\r\n",
        "\r\n",
        "X_train = np.reshape(X_train,(-1,20,20,1))\r\n",
        "X_test = np.reshape(X_test,(-1,20,20,1))"
      ],
      "execution_count": 8,
      "outputs": []
    },
    {
      "cell_type": "code",
      "metadata": {
        "colab": {
          "base_uri": "https://localhost:8080/"
        },
        "id": "Axj7Cg5fZLGc",
        "outputId": "45b58d5a-82e1-479b-b08d-35da968786d8"
      },
      "source": [
        "print(\"train: \", X_train.shape)\r\n",
        "print(\"test: \", X_test.shape)"
      ],
      "execution_count": 9,
      "outputs": [
        {
          "output_type": "stream",
          "text": [
            "train:  (76298, 20, 20, 1)\n",
            "test:  (19075, 20, 20, 1)\n"
          ],
          "name": "stdout"
        }
      ]
    },
    {
      "cell_type": "code",
      "metadata": {
        "id": "D9JJJGc5BT2g"
      },
      "source": [
        "num_epoch = 10"
      ],
      "execution_count": 29,
      "outputs": []
    },
    {
      "cell_type": "code",
      "metadata": {
        "colab": {
          "base_uri": "https://localhost:8080/"
        },
        "id": "atGvDiapYKlz",
        "outputId": "a0eb5f56-4f19-4be3-d8d6-6f0da69a0a22"
      },
      "source": [
        "model = Sequential()\r\n",
        "\r\n",
        "model.add(Convolution2D(32, (3, 3), activation='relu', input_shape=(20,20,1))) \r\n",
        "model.add(Convolution2D(64, (3, 3), activation='relu'))\r\n",
        "\r\n",
        "model.add(MaxPooling2D(pool_size=(2,2)))\r\n",
        "model.add(Dropout(0.25))\r\n",
        "\r\n",
        "model.add(Flatten())\r\n",
        "model.add(Dense(64, activation='relu'))\r\n",
        "model.add(Dense(64, activation='relu'))\r\n",
        "model.add(Dropout(0.5))\r\n",
        "model.add(Dense(len(FONTS_TO_TRAIN), activation='softmax'))\r\n",
        "model.compile(loss='categorical_crossentropy',optimizer='adam',metrics=['accuracy'])\r\n",
        "\r\n",
        "history = []\r\n",
        "evaluate_history = []\r\n",
        "for i in range(num_epoch):\r\n",
        "  history.append(model.fit(X_train, Y_train, batch_size=32, verbose=1, epochs=1))\r\n",
        "  evaluate_history.append(round(model.evaluate(X_test, Y_test)[1], 2) * 100)\r\n",
        "\r\n",
        "  print(\r\n",
        "      \"Accuracy for\", (i+1), \"epoch:\",\r\n",
        "      round(model.evaluate(X_test, Y_test)[1], 2) * 100,\r\n",
        "      \"%\"\r\n",
        "  )"
      ],
      "execution_count": 51,
      "outputs": [
        {
          "output_type": "stream",
          "text": [
            "2385/2385 [==============================] - 90s 38ms/step - loss: 1.7519 - accuracy: 0.4118\n",
            "597/597 [==============================] - 6s 11ms/step - loss: 1.4464 - accuracy: 0.5052\n",
            "597/597 [==============================] - 6s 11ms/step - loss: 1.4464 - accuracy: 0.5052\n",
            "Accuracy for 1 epoch: 51.0 %\n",
            "2385/2385 [==============================] - 91s 38ms/step - loss: 1.4227 - accuracy: 0.5169\n",
            "597/597 [==============================] - 6s 11ms/step - loss: 1.2449 - accuracy: 0.5680\n",
            "597/597 [==============================] - 6s 11ms/step - loss: 1.2449 - accuracy: 0.5680\n",
            "Accuracy for 2 epoch: 56.99999999999999 %\n",
            "2385/2385 [==============================] - 91s 38ms/step - loss: 1.2726 - accuracy: 0.5630\n",
            "597/597 [==============================] - 7s 12ms/step - loss: 1.1450 - accuracy: 0.6030\n",
            "597/597 [==============================] - 7s 13ms/step - loss: 1.1450 - accuracy: 0.6030\n",
            "Accuracy for 3 epoch: 60.0 %\n",
            "2385/2385 [==============================] - 91s 38ms/step - loss: 1.1765 - accuracy: 0.5952\n",
            "597/597 [==============================] - 7s 11ms/step - loss: 1.0748 - accuracy: 0.6250\n",
            "597/597 [==============================] - 7s 12ms/step - loss: 1.0748 - accuracy: 0.6250\n",
            "Accuracy for 4 epoch: 62.0 %\n",
            "2385/2385 [==============================] - 89s 37ms/step - loss: 1.0947 - accuracy: 0.6238\n",
            "597/597 [==============================] - 6s 11ms/step - loss: 1.0399 - accuracy: 0.6345\n",
            "597/597 [==============================] - 6s 11ms/step - loss: 1.0399 - accuracy: 0.6345\n",
            "Accuracy for 5 epoch: 63.0 %\n",
            "2385/2385 [==============================] - 92s 39ms/step - loss: 1.0325 - accuracy: 0.6417\n",
            "597/597 [==============================] - 6s 11ms/step - loss: 0.9826 - accuracy: 0.6581\n",
            "597/597 [==============================] - 7s 12ms/step - loss: 0.9826 - accuracy: 0.6581\n",
            "Accuracy for 6 epoch: 66.0 %\n",
            "2385/2385 [==============================] - 92s 39ms/step - loss: 0.9812 - accuracy: 0.6590\n",
            "597/597 [==============================] - 7s 12ms/step - loss: 0.9880 - accuracy: 0.6590\n",
            "597/597 [==============================] - 7s 12ms/step - loss: 0.9880 - accuracy: 0.6590\n",
            "Accuracy for 7 epoch: 66.0 %\n",
            "2385/2385 [==============================] - 92s 39ms/step - loss: 0.9418 - accuracy: 0.6736\n",
            "597/597 [==============================] - 7s 11ms/step - loss: 0.9477 - accuracy: 0.6700\n",
            "597/597 [==============================] - 7s 11ms/step - loss: 0.9477 - accuracy: 0.6700\n",
            "Accuracy for 8 epoch: 67.0 %\n",
            "2385/2385 [==============================] - 90s 38ms/step - loss: 0.9076 - accuracy: 0.6859\n",
            "597/597 [==============================] - 6s 11ms/step - loss: 0.9194 - accuracy: 0.6800\n",
            "597/597 [==============================] - 6s 11ms/step - loss: 0.9194 - accuracy: 0.6800\n",
            "Accuracy for 9 epoch: 68.0 %\n",
            "2385/2385 [==============================] - 92s 39ms/step - loss: 0.8753 - accuracy: 0.6947\n",
            "597/597 [==============================] - 7s 11ms/step - loss: 0.9079 - accuracy: 0.6826\n",
            "597/597 [==============================] - 6s 11ms/step - loss: 0.9079 - accuracy: 0.6826\n",
            "Accuracy for 10 epoch: 68.0 %\n"
          ],
          "name": "stdout"
        }
      ]
    },
    {
      "cell_type": "code",
      "metadata": {
        "id": "T2YRuEtI_qsS"
      },
      "source": [
        "# print(history[0].history)\r\n",
        "# print(history[0].history['accuracy'])\r\n",
        "train_acc = []\r\n",
        "for i in range(num_epoch):\r\n",
        "  train_acc.append(history[i].history['accuracy'])\r\n",
        "# print(history.params)\r\n",
        "# print(history.history.keys())"
      ],
      "execution_count": 52,
      "outputs": []
    },
    {
      "cell_type": "code",
      "metadata": {
        "id": "_NeofV2pBOMi"
      },
      "source": [
        "xc         = range(num_epoch)\r\n",
        "# train_acc = history.history['accuracy']"
      ],
      "execution_count": 53,
      "outputs": []
    },
    {
      "cell_type": "code",
      "metadata": {
        "colab": {
          "base_uri": "https://localhost:8080/",
          "height": 282
        },
        "id": "lfwiYc3LB1Wn",
        "outputId": "5e588338-f6ce-4617-9b5d-ee30aceb3d52"
      },
      "source": [
        "plt.figure()\r\n",
        "plt.plot(xc, train_acc)"
      ],
      "execution_count": 54,
      "outputs": [
        {
          "output_type": "execute_result",
          "data": {
            "text/plain": [
              "[<matplotlib.lines.Line2D at 0x7fd424a66438>]"
            ]
          },
          "metadata": {
            "tags": []
          },
          "execution_count": 54
        },
        {
          "output_type": "display_data",
          "data": {
            "image/png": "[encoded data removed]",
            "text/plain": [
              "<Figure size 432x288 with 1 Axes>"
            ]
          },
          "metadata": {
            "tags": [],
            "needs_background": "light"
          }
        }
      ]
    },
    {
      "cell_type": "code",
      "metadata": {
        "colab": {
          "base_uri": "https://localhost:8080/"
        },
        "id": "yi5YgQhO2hiH",
        "outputId": "5cec2f85-0ea9-4807-bde3-5a4adb60a622"
      },
      "source": [
        "print(evaluate_history)"
      ],
      "execution_count": 55,
      "outputs": [
        {
          "output_type": "stream",
          "text": [
            "[51.0, 56.99999999999999, 60.0, 62.0, 63.0, 66.0, 66.0, 67.0, 68.0, 68.0]\n"
          ],
          "name": "stdout"
        }
      ]
    },
    {
      "cell_type": "code",
      "metadata": {
        "id": "6JVGEUNuBawC",
        "colab": {
          "base_uri": "https://localhost:8080/",
          "height": 282
        },
        "outputId": "2a923a2b-5350-4a1f-f3a9-21e91910a398"
      },
      "source": [
        "plt.figure()\r\n",
        "plt.plot(xc, evaluate_history)"
      ],
      "execution_count": 56,
      "outputs": [
        {
          "output_type": "execute_result",
          "data": {
            "text/plain": [
              "[<matplotlib.lines.Line2D at 0x7fd424a82908>]"
            ]
          },
          "metadata": {
            "tags": []
          },
          "execution_count": 56
        },
        {
          "output_type": "display_data",
          "data": {
            "image/png": "[encoded data removed]",
            "text/plain": [
              "<Figure size 432x288 with 1 Axes>"
            ]
          },
          "metadata": {
            "tags": [],
            "needs_background": "light"
          }
        }
      ]
    },
    {
      "cell_type": "code",
      "metadata": {
        "id": "vg2nb58sZw4R"
      },
      "source": [
        "# plt.plot(\r\n",
        "#     [x[1] for x in history.history], \r\n",
        "#     # [x[1] for x in history]\r\n",
        "# )\r\n",
        "# plt.xlabel('epoch number')\r\n",
        "# plt.ylabel('accuracy')"
      ],
      "execution_count": 15,
      "outputs": []
    }
  ]
}
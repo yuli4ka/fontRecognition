{
  "nbformat": 4,
  "nbformat_minor": 0,
  "metadata": {
    "colab": {
      "name": "Untitled2.ipynb",
      "provenance": [],
      "collapsed_sections": [],
      "authorship_tag": "ABX9TyOY8aLF9oo/Ofdb+tGD/Zvq",
      "include_colab_link": true
    },
    "kernelspec": {
      "name": "python3",
      "display_name": "Python 3"
    }
  },
  "cells": [
    {
      "cell_type": "markdown",
      "metadata": {
        "id": "view-in-github",
        "colab_type": "text"
      },
      "source": [
        "<a href=\"https://colab.research.google.com/github/yuli4ka/fontRecognition/blob/main/fontRecognition.ipynb\" target=\"_parent\"><img src=\"https://colab.research.google.com/assets/colab-badge.svg\" alt=\"Open In Colab\"/></a>"
      ]
    },
    {
      "cell_type": "code",
      "metadata": {
        "id": "3XTPOCWKWTFD"
      },
      "source": [
        "FONTS_TO_TRAIN = ['PALATINO', 'STYLUS', 'NINA', 'GOUDY', 'ARIAL', 'TIMES']"
      ],
      "execution_count": 1,
      "outputs": []
    },
    {
      "cell_type": "code",
      "metadata": {
        "id": "x1QaTKyRWWU5"
      },
      "source": [
        "import zipfile\r\n",
        "import urllib.request\r\n",
        "import sys\r\n",
        "import random\r\n",
        "import pickle\r\n",
        "import matplotlib.pyplot as plt\r\n",
        "import pandas as pd\r\n",
        "import math\r\n",
        "import numpy as np\r\n",
        "import os"
      ],
      "execution_count": 2,
      "outputs": []
    },
    {
      "cell_type": "code",
      "metadata": {
        "id": "omgK2VpvXSzo"
      },
      "source": [
        "from keras.models import Model\r\n",
        "from keras.layers import Input, Dense, Dropout, Flatten\r\n",
        "from keras.layers.convolutional import Conv2D, MaxPooling2D\r\n",
        "from keras.optimizers import Adagrad\r\n",
        "from keras.constraints import maxnorm\r\n",
        "from keras.regularizers import l2\r\n",
        "from keras.utils import to_categorical\r\n",
        "from keras.models import Sequential\r\n",
        "from keras.layers import Convolution2D, MaxPooling2D\r\n",
        "from google.colab.patches import cv2_imshow"
      ],
      "execution_count": 3,
      "outputs": []
    },
    {
      "cell_type": "code",
      "metadata": {
        "id": "WYTxn6ssXX4w"
      },
      "source": [
        "np.random.seed(42) "
      ],
      "execution_count": 4,
      "outputs": []
    },
    {
      "cell_type": "code",
      "metadata": {
        "id": "XG-pWuFPXdWJ"
      },
      "source": [
        "download = \"https://archive.ics.uci.edu/ml/machine-learning-databases/00417/fonts.zip\"\r\n",
        "\r\n",
        "with urllib.request.urlopen( download ) as url:\r\n",
        "  output = open(\"./fonts.zip\", \"wb\")\r\n",
        "  output.write(url.read())\r\n",
        "  output.close()\r\n",
        "\r\n",
        "zip_ref = zipfile.ZipFile(\"./fonts.zip\", 'r')\r\n",
        "zip_ref.extractall(\"./fonts/\")\r\n",
        "zip_ref.close()"
      ],
      "execution_count": 5,
      "outputs": []
    },
    {
      "cell_type": "code",
      "metadata": {
        "id": "AUgZ-pPmXph-"
      },
      "source": [
        "data = pd.concat([pd.read_csv(\"./fonts/\"+name+\".csv\") for name in FONTS_TO_TRAIN]).sample(frac=1)\r\n",
        "\r\n",
        "X = data.iloc[:,12:].values\r\n",
        "X = np.true_divide(X,255)\r\n",
        "\r\n",
        "idx_to_label = {idx:name for idx,name in enumerate(data.font.unique())}\r\n",
        "label_to_idx = dict([[v,k] for k,v in idx_to_label.items()])\r\n",
        "\r\n",
        "Y=data['font'].values\r\n",
        "Y = to_categorical(list(map(lambda x : label_to_idx[x], Y)), num_classes=len(data.font.unique()))\r\n",
        "\r\n",
        "splitpoint = int(math.floor(len(X)*0.8))\r\n",
        "\r\n",
        "X_train, X_test = X[:splitpoint], X[splitpoint:]\r\n",
        "Y_train, Y_test = Y[:splitpoint], Y[splitpoint:]\r\n",
        "\r\n",
        "X_train = np.reshape(X_train,(-1,20,20,1))\r\n",
        "X_test = np.reshape(X_test,(-1,20,20,1))"
      ],
      "execution_count": 6,
      "outputs": []
    },
    {
      "cell_type": "code",
      "metadata": {
        "colab": {
          "base_uri": "https://localhost:8080/"
        },
        "id": "Axj7Cg5fZLGc",
        "outputId": "eac3eb39-2a8b-48e0-bebe-ddb18c255dab"
      },
      "source": [
        "print(\"train: \", X_train.shape)\r\n",
        "print(\"test: \", X_test.shape)"
      ],
      "execution_count": 7,
      "outputs": [
        {
          "output_type": "stream",
          "text": [
            "train:  (38816, 20, 20, 1)\n",
            "test:  (9705, 20, 20, 1)\n"
          ],
          "name": "stdout"
        }
      ]
    },
    {
      "cell_type": "code",
      "metadata": {
        "colab": {
          "base_uri": "https://localhost:8080/"
        },
        "id": "atGvDiapYKlz",
        "outputId": "c53c1044-ce32-4cfa-df05-60bb1d847ead"
      },
      "source": [
        "history = []\r\n",
        "for i in range(1, 10):\r\n",
        "  model = Sequential()\r\n",
        "\r\n",
        "  model.add(Convolution2D(32, (3, 3), activation='relu', input_shape=(20,20,1))) \r\n",
        "  model.add(Convolution2D(32, (3, 3), activation='relu'))\r\n",
        "  model.add(MaxPooling2D(pool_size=(2,2)))\r\n",
        "  model.add(Dropout(0.25))\r\n",
        "\r\n",
        "  model.add(Flatten())\r\n",
        "  model.add(Dense(64, activation='relu'))\r\n",
        "  model.add(Dropout(0.5))\r\n",
        "  model.add(Dense(len(FONTS_TO_TRAIN), activation='softmax'))\r\n",
        "\r\n",
        "  model.compile(loss='categorical_crossentropy',optimizer='adam',metrics=['accuracy'])\r\n",
        "\r\n",
        "  model.fit(X_train, Y_train, batch_size=32, verbose=1, epochs=i)\r\n",
        "\r\n",
        "  print(\r\n",
        "    \"Accuracy for\", i, \"epoch:\",\r\n",
        "    round(model.evaluate(X_test, Y_test)[1], 2) * 100,\r\n",
        "    \"%\"\r\n",
        "  )\r\n",
        "\r\n",
        "  history.append([i, model.evaluate(X_test, Y_test)[1]])"
      ],
      "execution_count": 8,
      "outputs": [
        {
          "output_type": "stream",
          "text": [
            "1213/1213 [==============================] - 30s 24ms/step - loss: 1.0147 - accuracy: 0.6394\n",
            "304/304 [==============================] - 2s 6ms/step - loss: 0.8053 - accuracy: 0.7119\n",
            "Accuracy for 1 epoch: 71.0 %\n",
            "304/304 [==============================] - 2s 7ms/step - loss: 0.8053 - accuracy: 0.7119\n",
            "Epoch 1/2\n",
            "1213/1213 [==============================] - 30s 25ms/step - loss: 0.9894 - accuracy: 0.6511\n",
            "Epoch 2/2\n",
            "1213/1213 [==============================] - 32s 26ms/step - loss: 0.7972 - accuracy: 0.7184\n",
            "304/304 [==============================] - 2s 6ms/step - loss: 0.6953 - accuracy: 0.7488\n",
            "Accuracy for 2 epoch: 75.0 %\n",
            "304/304 [==============================] - 2s 6ms/step - loss: 0.6953 - accuracy: 0.7488\n",
            "Epoch 1/3\n",
            "1213/1213 [==============================] - 29s 24ms/step - loss: 1.0116 - accuracy: 0.6439\n",
            "Epoch 2/3\n",
            "1213/1213 [==============================] - 29s 24ms/step - loss: 0.8215 - accuracy: 0.7084\n",
            "Epoch 3/3\n",
            "1213/1213 [==============================] - 29s 24ms/step - loss: 0.7358 - accuracy: 0.7361\n",
            "304/304 [==============================] - 2s 6ms/step - loss: 0.6348 - accuracy: 0.7652\n",
            "Accuracy for 3 epoch: 77.0 %\n",
            "304/304 [==============================] - 2s 6ms/step - loss: 0.6348 - accuracy: 0.7652\n",
            "Epoch 1/4\n",
            "1213/1213 [==============================] - 31s 25ms/step - loss: 1.0622 - accuracy: 0.6247\n",
            "Epoch 2/4\n",
            "1213/1213 [==============================] - 31s 25ms/step - loss: 0.8674 - accuracy: 0.6924\n",
            "Epoch 3/4\n",
            "1213/1213 [==============================] - 31s 26ms/step - loss: 0.7835 - accuracy: 0.7209\n",
            "Epoch 4/4\n",
            "1213/1213 [==============================] - 31s 26ms/step - loss: 0.7213 - accuracy: 0.7389\n",
            "304/304 [==============================] - 2s 6ms/step - loss: 0.6160 - accuracy: 0.7773\n",
            "Accuracy for 4 epoch: 78.0 %\n",
            "304/304 [==============================] - 2s 6ms/step - loss: 0.6160 - accuracy: 0.7773\n",
            "Epoch 1/5\n",
            "1213/1213 [==============================] - 31s 26ms/step - loss: 1.0417 - accuracy: 0.6308\n",
            "Epoch 2/5\n",
            "1213/1213 [==============================] - 31s 26ms/step - loss: 0.8378 - accuracy: 0.7031\n",
            "Epoch 3/5\n",
            "1213/1213 [==============================] - 31s 26ms/step - loss: 0.7496 - accuracy: 0.7310\n",
            "Epoch 4/5\n",
            "1213/1213 [==============================] - 31s 26ms/step - loss: 0.6915 - accuracy: 0.7487\n",
            "Epoch 5/5\n",
            "1213/1213 [==============================] - 32s 26ms/step - loss: 0.6537 - accuracy: 0.7603\n",
            "304/304 [==============================] - 2s 7ms/step - loss: 0.5716 - accuracy: 0.7942\n",
            "Accuracy for 5 epoch: 79.0 %\n",
            "304/304 [==============================] - 2s 7ms/step - loss: 0.5716 - accuracy: 0.7942\n",
            "Epoch 1/6\n",
            "1213/1213 [==============================] - 31s 25ms/step - loss: 1.0106 - accuracy: 0.6438\n",
            "Epoch 2/6\n",
            "1213/1213 [==============================] - 31s 25ms/step - loss: 0.8191 - accuracy: 0.7072\n",
            "Epoch 3/6\n",
            "1213/1213 [==============================] - 31s 26ms/step - loss: 0.7376 - accuracy: 0.7361\n",
            "Epoch 4/6\n",
            "1213/1213 [==============================] - 31s 26ms/step - loss: 0.6900 - accuracy: 0.7510\n",
            "Epoch 5/6\n",
            "1213/1213 [==============================] - 31s 26ms/step - loss: 0.6436 - accuracy: 0.7644\n",
            "Epoch 6/6\n",
            "1213/1213 [==============================] - 31s 25ms/step - loss: 0.6195 - accuracy: 0.7727\n",
            "304/304 [==============================] - 2s 6ms/step - loss: 0.5402 - accuracy: 0.8016\n",
            "Accuracy for 6 epoch: 80.0 %\n",
            "304/304 [==============================] - 2s 6ms/step - loss: 0.5402 - accuracy: 0.8016\n",
            "Epoch 1/7\n",
            "1213/1213 [==============================] - 32s 26ms/step - loss: 1.0258 - accuracy: 0.6374\n",
            "Epoch 2/7\n",
            "1213/1213 [==============================] - 30s 25ms/step - loss: 0.8302 - accuracy: 0.7038\n",
            "Epoch 3/7\n",
            "1213/1213 [==============================] - 30s 25ms/step - loss: 0.7504 - accuracy: 0.7307\n",
            "Epoch 4/7\n",
            "1213/1213 [==============================] - 30s 25ms/step - loss: 0.7004 - accuracy: 0.7436\n",
            "Epoch 5/7\n",
            "1213/1213 [==============================] - 30s 25ms/step - loss: 0.6621 - accuracy: 0.7553\n",
            "Epoch 6/7\n",
            "1213/1213 [==============================] - 30s 25ms/step - loss: 0.6332 - accuracy: 0.7644\n",
            "Epoch 7/7\n",
            "1213/1213 [==============================] - 30s 25ms/step - loss: 0.6083 - accuracy: 0.7733\n",
            "304/304 [==============================] - 2s 6ms/step - loss: 0.5249 - accuracy: 0.8016\n",
            "Accuracy for 7 epoch: 80.0 %\n",
            "304/304 [==============================] - 2s 6ms/step - loss: 0.5249 - accuracy: 0.8016\n",
            "Epoch 1/8\n",
            "1213/1213 [==============================] - 31s 25ms/step - loss: 1.0219 - accuracy: 0.6348\n",
            "Epoch 2/8\n",
            "1213/1213 [==============================] - 31s 25ms/step - loss: 0.8210 - accuracy: 0.7075\n",
            "Epoch 3/8\n",
            "1213/1213 [==============================] - 31s 25ms/step - loss: 0.7353 - accuracy: 0.7348\n",
            "Epoch 4/8\n",
            "1213/1213 [==============================] - 31s 25ms/step - loss: 0.6847 - accuracy: 0.7507\n",
            "Epoch 5/8\n",
            "1213/1213 [==============================] - 31s 25ms/step - loss: 0.6423 - accuracy: 0.7639\n",
            "Epoch 6/8\n",
            "1213/1213 [==============================] - 31s 25ms/step - loss: 0.6119 - accuracy: 0.7726\n",
            "Epoch 7/8\n",
            "1213/1213 [==============================] - 31s 26ms/step - loss: 0.5856 - accuracy: 0.7803\n",
            "Epoch 8/8\n",
            "1213/1213 [==============================] - 31s 26ms/step - loss: 0.5687 - accuracy: 0.7852\n",
            "304/304 [==============================] - 2s 6ms/step - loss: 0.5042 - accuracy: 0.8038\n",
            "Accuracy for 8 epoch: 80.0 %\n",
            "304/304 [==============================] - 2s 7ms/step - loss: 0.5042 - accuracy: 0.8038\n",
            "Epoch 1/9\n",
            "1213/1213 [==============================] - 31s 25ms/step - loss: 1.0181 - accuracy: 0.6384\n",
            "Epoch 2/9\n",
            "1213/1213 [==============================] - 31s 25ms/step - loss: 0.8343 - accuracy: 0.7022\n",
            "Epoch 3/9\n",
            "1213/1213 [==============================] - 31s 26ms/step - loss: 0.7502 - accuracy: 0.7284\n",
            "Epoch 4/9\n",
            "1213/1213 [==============================] - 31s 25ms/step - loss: 0.7037 - accuracy: 0.7453\n",
            "Epoch 5/9\n",
            "1213/1213 [==============================] - 32s 27ms/step - loss: 0.6611 - accuracy: 0.7576\n",
            "Epoch 6/9\n",
            "1213/1213 [==============================] - 31s 25ms/step - loss: 0.6317 - accuracy: 0.7659\n",
            "Epoch 7/9\n",
            "1213/1213 [==============================] - 30s 25ms/step - loss: 0.6073 - accuracy: 0.7735\n",
            "Epoch 8/9\n",
            "1213/1213 [==============================] - 31s 25ms/step - loss: 0.5933 - accuracy: 0.7782\n",
            "Epoch 9/9\n",
            "1213/1213 [==============================] - 31s 25ms/step - loss: 0.5718 - accuracy: 0.7848\n",
            "304/304 [==============================] - 2s 6ms/step - loss: 0.4987 - accuracy: 0.8110\n",
            "Accuracy for 9 epoch: 81.0 %\n",
            "304/304 [==============================] - 2s 6ms/step - loss: 0.4987 - accuracy: 0.8110\n"
          ],
          "name": "stdout"
        }
      ]
    },
    {
      "cell_type": "code",
      "metadata": {
        "colab": {
          "base_uri": "https://localhost:8080/",
          "height": 296
        },
        "id": "vg2nb58sZw4R",
        "outputId": "77e57640-57ce-4aea-b251-0b0b8660be13"
      },
      "source": [
        "plt.plot(\r\n",
        "    [x[0] for x in history], \r\n",
        "    [x[1] for x in history]\r\n",
        ")\r\n",
        "plt.xlabel('epoch number')\r\n",
        "plt.ylabel('accuracy')"
      ],
      "execution_count": 9,
      "outputs": [
        {
          "output_type": "execute_result",
          "data": {
            "text/plain": [
              "Text(0, 0.5, 'accuracy')"
            ]
          },
          "metadata": {
            "tags": []
          },
          "execution_count": 9
        },
        {
          "output_type": "display_data",
          "data": {
            "image/png": "[encoded data removed]",
            "text/plain": [
              "<Figure size 432x288 with 1 Axes>"
            ]
          },
          "metadata": {
            "tags": [],
            "needs_background": "light"
          }
        }
      ]
    }
  ]
}
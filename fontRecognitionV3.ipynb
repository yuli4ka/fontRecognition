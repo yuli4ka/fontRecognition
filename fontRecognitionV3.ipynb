{
  "nbformat": 4,
  "nbformat_minor": 0,
  "metadata": {
    "colab": {
      "name": "Untitled2.ipynb",
      "provenance": [],
      "collapsed_sections": [],
      "authorship_tag": "ABX9TyOK8HFLZJnJMpzbZ5qlNgrV",
      "include_colab_link": true
    },
    "kernelspec": {
      "name": "python3",
      "display_name": "Python 3"
    }
  },
  "cells": [
    {
      "cell_type": "markdown",
      "metadata": {
        "id": "view-in-github",
        "colab_type": "text"
      },
      "source": [
        "<a href=\"https://colab.research.google.com/github/yuli4ka/fontRecognition/blob/main/fontRecognitionV3.ipynb\" target=\"_parent\"><img src=\"https://colab.research.google.com/assets/colab-badge.svg\" alt=\"Open In Colab\"/></a>"
      ]
    },
    {
      "cell_type": "code",
      "metadata": {
        "id": "x1QaTKyRWWU5"
      },
      "source": [
        "import zipfile\r\n",
        "import urllib.request\r\n",
        "import sys\r\n",
        "import random\r\n",
        "import pickle\r\n",
        "import matplotlib.pyplot as plt\r\n",
        "import pandas as pd\r\n",
        "import math\r\n",
        "import numpy as np\r\n",
        "import os"
      ],
      "execution_count": 42,
      "outputs": []
    },
    {
      "cell_type": "code",
      "metadata": {
        "id": "omgK2VpvXSzo"
      },
      "source": [
        "from keras.models import Model\r\n",
        "from keras.layers import Input, Dense, Dropout, Flatten\r\n",
        "from keras.layers.convolutional import Conv2D, MaxPooling2D\r\n",
        "from keras.optimizers import Adagrad\r\n",
        "from keras.constraints import maxnorm\r\n",
        "from keras.regularizers import l2\r\n",
        "from keras.utils import to_categorical\r\n",
        "from keras.models import Sequential\r\n",
        "from keras.layers import Convolution2D, MaxPooling2D\r\n",
        "from google.colab.patches import cv2_imshow"
      ],
      "execution_count": 43,
      "outputs": []
    },
    {
      "cell_type": "code",
      "metadata": {
        "id": "WYTxn6ssXX4w"
      },
      "source": [
        "np.random.seed(42) "
      ],
      "execution_count": 44,
      "outputs": []
    },
    {
      "cell_type": "code",
      "metadata": {
        "id": "XG-pWuFPXdWJ"
      },
      "source": [
        "download = \"https://archive.ics.uci.edu/ml/machine-learning-databases/00417/fonts.zip\"\r\n",
        "\r\n",
        "with urllib.request.urlopen( download ) as url:\r\n",
        "  output = open(\"./fonts.zip\", \"wb\")\r\n",
        "  output.write(url.read())\r\n",
        "  output.close()\r\n",
        "\r\n",
        "zip_ref = zipfile.ZipFile(\"./fonts.zip\", 'r')\r\n",
        "zip_ref.extractall(\"./fonts/\")\r\n",
        "zip_ref.close()"
      ],
      "execution_count": 45,
      "outputs": []
    },
    {
      "cell_type": "code",
      "metadata": {
        "colab": {
          "base_uri": "https://localhost:8080/"
        },
        "id": "Gc2kNR_Ygdvq",
        "outputId": "7afd526a-369e-4de0-f500-ba8bcb8b06d9"
      },
      "source": [
        "!cd fonts/ && ls"
      ],
      "execution_count": 46,
      "outputs": [
        {
          "output_type": "stream",
          "text": [
            " AGENCY.csv\t       'FELIX TITLING.csv'     OCRB.csv\n",
            " ARIAL.csv\t        FOOTLIGHT.csv\t       ONYX.csv\n",
            " BAITI.csv\t        FORTE.csv\t       PALACE.csv\n",
            " BANKGOTHIC.csv         FRANKLIN.csv\t       PALATINO.csv\n",
            " BASKERVILLE.csv        FREESTYLE.csv\t       PANROMAN.csv\n",
            " BAUHAUS.csv\t        FRENCH.csv\t       PAPYRUS.csv\n",
            " BELL.csv\t        GABRIOLA.csv\t       PERPETUA.csv\n",
            " BERLIN.csv\t        GADUGI.csv\t       PHAGSPA.csv\n",
            " BERNARD.csv\t        GARAMOND.csv\t       PLAYBILL.csv\n",
            " BITSTREAMVERA.csv      GEORGIA.csv\t       PMINGLIU-EXTB.csv\n",
            " BLACKADDER.csv         GIGI.csv\t       PRISTINA.csv\n",
            " BODONI.csv\t        GILL.csv\t       PROXY.csv\n",
            " BOOK.csv\t        GLOUCESTER.csv\t       QUICKTYPE.csv\n",
            " BOOKMAN.csv\t        GOTHICE.csv\t       RAGE.csv\n",
            " BRADLEY.csv\t        GOUDY.csv\t       RAVIE.csv\n",
            " BRITANNIC.csv\t        GUNPLAY.csv\t       REFERENCE.csv\n",
            " BROADWAY.csv\t        HAETTENSCHWEILER.csv   RICHARD.csv\n",
            " BRUSH.csv\t        HANDPRINT.csv\t       ROCKWELL.csv\n",
            " BUXTON.csv\t        HARLOW.csv\t       ROMAN.csv\n",
            " CAARD.csv\t        HARRINGTON.csv\t       ROMANTIC.csv\n",
            " CALIBRI.csv\t       'HIGH TOWER.csv'        SANSSERIF.csv\n",
            " CALIFORNIAN.csv        HIMALAYA.csv\t       SCRIPTB.csv\n",
            " CALISTO.csv\t        IMPACT.csv\t       SCRIPT.csv\n",
            " CAMBRIA.csv\t        IMPRINT.csv\t       SEGOE.csv\n",
            " CANDARA.csv\t        INFORMAL.csv\t       SERIF.csv\n",
            " CASTELLAR.csv\t        ISOC.csv\t       SHOWCARD.csv\n",
            " CENTAUR.csv\t        ITALIC.csv\t       SIMPLEX.csv\n",
            " CENTURY.csv\t        JAVANESE.csv\t       SITKA.csv\n",
            " CHILLER.csv\t        JOKERMAN.csv\t       SKETCHFLOW.csv\n",
            " CITYBLUEPRINT.csv      JUICE.csv\t       SNAP.csv\n",
            " COMIC.csv\t        KRISTEN.csv\t       STENCIL.csv\n",
            " COMMERCIALSCRIPT.csv   KUNSTLER.csv\t       STYLUS.csv\n",
            " COMPLEX.csv\t        LEELAWADEE.csv\t       SUPERFRENCH.csv\n",
            " CONSOLAS.csv\t        LUCIDA.csv\t       SWIS721.csv\n",
            " CONSTANTIA.csv         MAGNETO.csv\t       SYLFAEN.csv\n",
            " COOPER.csv\t        MAIANDRA.csv\t       TAHOMA.csv\n",
            " COPPERPLATE.csv        MATURA.csv\t       TAI.csv\n",
            " CORBEL.csv\t        MINGLIU.csv\t       TECHNIC.csv\n",
            " COUNTRYBLUEPRINT.csv   MISTRAL.csv\t       TEMPUS.csv\n",
            " COURIER.csv\t        MODERN.csv\t       TIMES.csv\n",
            " CREDITCARD.csv         MONEY.csv\t       TREBUCHET.csv\n",
            " CURLZ.csv\t        MONOSPAC821.csv        TW.csv\n",
            " DUTCH801.csv\t        MONOTXT.csv\t       TXT.csv\n",
            " E13B.csv\t        MONOTYPE.csv\t       VERDANA.csv\n",
            " EBRIMA.csv\t        MV_BOLI.csv\t       VIN.csv\n",
            " EDWARDIAN.csv\t        MYANMAR.csv\t       VINER.csv\n",
            " ELEPHANT.csv\t        NIAGARA.csv\t       VINETA.csv\n",
            " ENGLISH.csv\t        NINA.csv\t       VIVALDI.csv\n",
            " ENGRAVERS.csv\t        NIRMALA.csv\t       VLADIMIR.csv\n",
            " ERAS.csv\t        NUMERICS.csv\t       WIDE.csv\n",
            " EUROROMAN.csv\t        OCRA.csv\t      'YI BAITI.csv'\n"
          ],
          "name": "stdout"
        }
      ]
    },
    {
      "cell_type": "code",
      "metadata": {
        "colab": {
          "base_uri": "https://localhost:8080/"
        },
        "id": "g7AGPmFfj--b",
        "outputId": "c2179748-b108-43b2-c83f-966c9d70b4d9"
      },
      "source": [
        "print(pd.read_csv(\"./fonts/\"+\"NINA\"+\".csv\"))"
      ],
      "execution_count": 47,
      "outputs": [
        {
          "output_type": "stream",
          "text": [
            "      font fontVariant  m_label  strength  ...  r19c16  r19c17  r19c18  r19c19\n",
            "0     NINA        NINA    64258       0.4  ...     255     255     255     255\n",
            "1     NINA        NINA    64257       0.4  ...     255     255     255     255\n",
            "2     NINA        NINA    61444       0.4  ...       1       1       1       1\n",
            "3     NINA        NINA    61442       0.4  ...     255     255     255     255\n",
            "4     NINA        NINA    61441       0.4  ...     255     255     255     255\n",
            "...    ...         ...      ...       ...  ...     ...     ...     ...     ...\n",
            "2273  NINA        NINA       37       0.7  ...      19       1       1       1\n",
            "2274  NINA        NINA       36       0.7  ...       1       1       1       1\n",
            "2275  NINA        NINA       35       0.7  ...       1       1       1       1\n",
            "2276  NINA        NINA       34       0.7  ...       1       1       1       1\n",
            "2277  NINA        NINA       33       0.7  ...       1       1       1       1\n",
            "\n",
            "[2278 rows x 412 columns]\n"
          ],
          "name": "stdout"
        }
      ]
    },
    {
      "cell_type": "code",
      "metadata": {
        "id": "zfh0GqQPgyzA"
      },
      "source": [
        "FONTS_TO_TRAIN = ['ARIAL','CALIBRI', 'FRENCH', 'IMPACT', 'ITALIC', 'JAVANESE', 'JOKERMAN', 'JUICE', 'KRISTEN', \r\n",
        "                  'MAGNETO', 'MODERN', 'RAGE', 'ROMAN', 'TAHOMA', 'TIMES', 'VERDANA', 'VIVALDI']"
      ],
      "execution_count": 48,
      "outputs": []
    },
    {
      "cell_type": "code",
      "metadata": {
        "id": "AUgZ-pPmXph-"
      },
      "source": [
        "data = pd.concat([pd.read_csv(\"./fonts/\"+name+\".csv\") for name in FONTS_TO_TRAIN]).sample(frac=1)\r\n",
        "\r\n",
        "X = data.iloc[:,12:].values\r\n",
        "X = np.true_divide(X,255)\r\n",
        "\r\n",
        "idx_to_label = {idx:name for idx,name in enumerate(data.font.unique())}\r\n",
        "label_to_idx = dict([[v,k] for k,v in idx_to_label.items()])\r\n",
        "\r\n",
        "Y=data['font'].values\r\n",
        "Y = to_categorical(list(map(lambda x : label_to_idx[x], Y)), num_classes=len(data.font.unique()))\r\n",
        "\r\n",
        "splitpoint = int(math.floor(len(X)*0.8))\r\n",
        "\r\n",
        "X_train, X_test = X[:splitpoint], X[splitpoint:]\r\n",
        "Y_train, Y_test = Y[:splitpoint], Y[splitpoint:]\r\n",
        "\r\n",
        "X_train = np.reshape(X_train,(-1,20,20,1))\r\n",
        "X_test = np.reshape(X_test,(-1,20,20,1))"
      ],
      "execution_count": 49,
      "outputs": []
    },
    {
      "cell_type": "code",
      "metadata": {
        "colab": {
          "base_uri": "https://localhost:8080/"
        },
        "id": "Axj7Cg5fZLGc",
        "outputId": "b1b0eefb-0876-4f73-91ff-a07f1d5a1bf8"
      },
      "source": [
        "print(\"train: \", X_train.shape)\r\n",
        "print(\"test: \", X_test.shape)"
      ],
      "execution_count": 50,
      "outputs": [
        {
          "output_type": "stream",
          "text": [
            "train:  (76298, 20, 20, 1)\n",
            "test:  (19075, 20, 20, 1)\n"
          ],
          "name": "stdout"
        }
      ]
    },
    {
      "cell_type": "code",
      "metadata": {
        "id": "D9JJJGc5BT2g"
      },
      "source": [
        "num_epoch = 5"
      ],
      "execution_count": 51,
      "outputs": []
    },
    {
      "cell_type": "code",
      "metadata": {
        "colab": {
          "base_uri": "https://localhost:8080/"
        },
        "id": "atGvDiapYKlz",
        "outputId": "90a45a36-0304-411f-e30b-eabd42d8c86e"
      },
      "source": [
        "model = Sequential()\r\n",
        "\r\n",
        "model.add(Convolution2D(32, (3, 3), activation='relu', input_shape=(20,20,1))) \r\n",
        "model.add(Convolution2D(32, (3, 3), activation='relu'))\r\n",
        "model.add(MaxPooling2D(pool_size=(2,2)))\r\n",
        "model.add(Dropout(0.25))\r\n",
        "\r\n",
        "model.add(Flatten())\r\n",
        "model.add(Dense(64, activation='relu'))\r\n",
        "model.add(Dropout(0.5))\r\n",
        "model.add(Dense(len(FONTS_TO_TRAIN), activation='softmax'))\r\n",
        "model.compile(loss='categorical_crossentropy',optimizer='adam',metrics=['accuracy'])\r\n",
        "\r\n",
        "history = model.fit(X_train, Y_train, batch_size=32, verbose=1, epochs=num_epoch)\r\n",
        "\r\n",
        "print(\r\n",
        "    \"Accuracy for\", num_epoch, \"epoch:\",\r\n",
        "    round(model.evaluate(X_test, Y_test)[1], 2) * 100,\r\n",
        "    \"%\"\r\n",
        ")"
      ],
      "execution_count": 52,
      "outputs": [
        {
          "output_type": "stream",
          "text": [
            "Epoch 1/5\n",
            "2385/2385 [==============================] - 66s 28ms/step - loss: 1.8655 - accuracy: 0.3697\n",
            "Epoch 2/5\n",
            "2385/2385 [==============================] - 66s 28ms/step - loss: 1.6125 - accuracy: 0.4473\n",
            "Epoch 3/5\n",
            "2385/2385 [==============================] - 65s 27ms/step - loss: 1.5031 - accuracy: 0.4808\n",
            "Epoch 4/5\n",
            "2385/2385 [==============================] - 67s 28ms/step - loss: 1.4324 - accuracy: 0.5012\n",
            "Epoch 5/5\n",
            "2385/2385 [==============================] - 67s 28ms/step - loss: 1.3844 - accuracy: 0.5184\n",
            "597/597 [==============================] - 5s 8ms/step - loss: 1.2093 - accuracy: 0.5847\n",
            "Accuracy for 5 epoch: 57.99999999999999 %\n"
          ],
          "name": "stdout"
        }
      ]
    },
    {
      "cell_type": "code",
      "metadata": {
        "colab": {
          "base_uri": "https://localhost:8080/"
        },
        "id": "T2YRuEtI_qsS",
        "outputId": "3e22a5f9-d87d-4ed2-8b58-766781ed6a1f"
      },
      "source": [
        "print(history.history)\r\n",
        "print(history.params)\r\n",
        "print(history.history.keys())"
      ],
      "execution_count": 53,
      "outputs": [
        {
          "output_type": "stream",
          "text": [
            "{'loss': [1.8655235767364502, 1.6124755144119263, 1.5031415224075317, 1.432382583618164, 1.384381651878357], 'accuracy': [0.3697344660758972, 0.44728565216064453, 0.4807727634906769, 0.5011664628982544, 0.5183753371238708]}\n",
            "{'verbose': 1, 'epochs': 5, 'steps': 2385}\n",
            "dict_keys(['loss', 'accuracy'])\n"
          ],
          "name": "stdout"
        }
      ]
    },
    {
      "cell_type": "code",
      "metadata": {
        "id": "_NeofV2pBOMi"
      },
      "source": [
        "xc         = range(num_epoch)\r\n",
        "train_acc = history.history['accuracy']"
      ],
      "execution_count": 54,
      "outputs": []
    },
    {
      "cell_type": "code",
      "metadata": {
        "colab": {
          "base_uri": "https://localhost:8080/",
          "height": 282
        },
        "id": "lfwiYc3LB1Wn",
        "outputId": "d4746aa6-6f8d-4d39-a07e-ef325c0dfad7"
      },
      "source": [
        "plt.figure()\r\n",
        "plt.plot(xc, train_acc)"
      ],
      "execution_count": 55,
      "outputs": [
        {
          "output_type": "execute_result",
          "data": {
            "text/plain": [
              "[<matplotlib.lines.Line2D at 0x7fb982265780>]"
            ]
          },
          "metadata": {
            "tags": []
          },
          "execution_count": 55
        },
        {
          "output_type": "display_data",
          "data": {
            "image/png": "[encoded data removed]",
            "text/plain": [
              "<Figure size 432x288 with 1 Axes>"
            ]
          },
          "metadata": {
            "tags": [],
            "needs_background": "light"
          }
        }
      ]
    },
    {
      "cell_type": "code",
      "metadata": {
        "id": "6JVGEUNuBawC"
      },
      "source": [
        ""
      ],
      "execution_count": 55,
      "outputs": []
    },
    {
      "cell_type": "code",
      "metadata": {
        "id": "vg2nb58sZw4R"
      },
      "source": [
        "# plt.plot(\r\n",
        "#     [x[1] for x in history.history], \r\n",
        "#     # [x[1] for x in history]\r\n",
        "# )\r\n",
        "# plt.xlabel('epoch number')\r\n",
        "# plt.ylabel('accuracy')"
      ],
      "execution_count": 56,
      "outputs": []
    }
  ]
}
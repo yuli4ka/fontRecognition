{
  "nbformat": 4,
  "nbformat_minor": 0,
  "metadata": {
    "colab": {
      "name": "Untitled2.ipynb",
      "provenance": [],
      "collapsed_sections": [],
      "authorship_tag": "ABX9TyOm1JbzKIisyTp9HcsCrBO4",
      "include_colab_link": true
    },
    "kernelspec": {
      "name": "python3",
      "display_name": "Python 3"
    }
  },
  "cells": [
    {
      "cell_type": "markdown",
      "metadata": {
        "id": "view-in-github",
        "colab_type": "text"
      },
      "source": [
        "<a href=\"https://colab.research.google.com/github/yuli4ka/fontRecognition/blob/main/fontRecognitionV2.ipynb\" target=\"_parent\"><img src=\"https://colab.research.google.com/assets/colab-badge.svg\" alt=\"Open In Colab\"/></a>"
      ]
    },
    {
      "cell_type": "code",
      "metadata": {
        "id": "3XTPOCWKWTFD"
      },
      "source": [
        "FONTS_TO_TRAIN = ['PALATINO', 'STYLUS', 'NINA', 'GOUDY', 'ARIAL', 'TIMES']"
      ],
      "execution_count": 10,
      "outputs": []
    },
    {
      "cell_type": "code",
      "metadata": {
        "id": "x1QaTKyRWWU5"
      },
      "source": [
        "import zipfile\r\n",
        "import urllib.request\r\n",
        "import sys\r\n",
        "import random\r\n",
        "import pickle\r\n",
        "import matplotlib.pyplot as plt\r\n",
        "import pandas as pd\r\n",
        "import math\r\n",
        "import numpy as np\r\n",
        "import os"
      ],
      "execution_count": 11,
      "outputs": []
    },
    {
      "cell_type": "code",
      "metadata": {
        "id": "omgK2VpvXSzo"
      },
      "source": [
        "from keras.models import Model\r\n",
        "from keras.layers import Input, Dense, Dropout, Flatten\r\n",
        "from keras.layers.convolutional import Conv2D, MaxPooling2D\r\n",
        "from keras.optimizers import Adagrad\r\n",
        "from keras.constraints import maxnorm\r\n",
        "from keras.regularizers import l2\r\n",
        "from keras.utils import to_categorical\r\n",
        "from keras.models import Sequential\r\n",
        "from keras.layers import Convolution2D, MaxPooling2D\r\n",
        "from google.colab.patches import cv2_imshow"
      ],
      "execution_count": 12,
      "outputs": []
    },
    {
      "cell_type": "code",
      "metadata": {
        "id": "WYTxn6ssXX4w"
      },
      "source": [
        "np.random.seed(42) "
      ],
      "execution_count": 13,
      "outputs": []
    },
    {
      "cell_type": "code",
      "metadata": {
        "id": "XG-pWuFPXdWJ"
      },
      "source": [
        "download = \"https://archive.ics.uci.edu/ml/machine-learning-databases/00417/fonts.zip\"\r\n",
        "\r\n",
        "with urllib.request.urlopen( download ) as url:\r\n",
        "  output = open(\"./fonts.zip\", \"wb\")\r\n",
        "  output.write(url.read())\r\n",
        "  output.close()\r\n",
        "\r\n",
        "zip_ref = zipfile.ZipFile(\"./fonts.zip\", 'r')\r\n",
        "zip_ref.extractall(\"./fonts/\")\r\n",
        "zip_ref.close()"
      ],
      "execution_count": 14,
      "outputs": []
    },
    {
      "cell_type": "code",
      "metadata": {
        "id": "AUgZ-pPmXph-"
      },
      "source": [
        "data = pd.concat([pd.read_csv(\"./fonts/\"+name+\".csv\") for name in FONTS_TO_TRAIN]).sample(frac=1)\r\n",
        "\r\n",
        "X = data.iloc[:,12:].values\r\n",
        "X = np.true_divide(X,255)\r\n",
        "\r\n",
        "idx_to_label = {idx:name for idx,name in enumerate(data.font.unique())}\r\n",
        "label_to_idx = dict([[v,k] for k,v in idx_to_label.items()])\r\n",
        "\r\n",
        "Y=data['font'].values\r\n",
        "Y = to_categorical(list(map(lambda x : label_to_idx[x], Y)), num_classes=len(data.font.unique()))\r\n",
        "\r\n",
        "splitpoint = int(math.floor(len(X)*0.8))\r\n",
        "\r\n",
        "X_train, X_test = X[:splitpoint], X[splitpoint:]\r\n",
        "Y_train, Y_test = Y[:splitpoint], Y[splitpoint:]\r\n",
        "\r\n",
        "X_train = np.reshape(X_train,(-1,20,20,1))\r\n",
        "X_test = np.reshape(X_test,(-1,20,20,1))"
      ],
      "execution_count": 15,
      "outputs": []
    },
    {
      "cell_type": "code",
      "metadata": {
        "colab": {
          "base_uri": "https://localhost:8080/"
        },
        "id": "Axj7Cg5fZLGc",
        "outputId": "d6e98e80-0e75-4e5f-d732-e31cbd8ce15e"
      },
      "source": [
        "print(\"train: \", X_train.shape)\r\n",
        "print(\"test: \", X_test.shape)"
      ],
      "execution_count": 16,
      "outputs": [
        {
          "output_type": "stream",
          "text": [
            "train:  (38816, 20, 20, 1)\n",
            "test:  (9705, 20, 20, 1)\n"
          ],
          "name": "stdout"
        }
      ]
    },
    {
      "cell_type": "code",
      "metadata": {
        "id": "D9JJJGc5BT2g"
      },
      "source": [
        "num_epoch = 20"
      ],
      "execution_count": 37,
      "outputs": []
    },
    {
      "cell_type": "code",
      "metadata": {
        "colab": {
          "base_uri": "https://localhost:8080/"
        },
        "id": "atGvDiapYKlz",
        "outputId": "daa555ef-4d74-48ca-8d25-33c48ed79f8d"
      },
      "source": [
        "model = Sequential()\r\n",
        "\r\n",
        "model.add(Convolution2D(32, (3, 3), activation='relu', input_shape=(20,20,1))) \r\n",
        "model.add(Convolution2D(32, (3, 3), activation='relu'))\r\n",
        "model.add(MaxPooling2D(pool_size=(2,2)))\r\n",
        "model.add(Dropout(0.25))\r\n",
        "\r\n",
        "model.add(Flatten())\r\n",
        "model.add(Dense(64, activation='relu'))\r\n",
        "model.add(Dropout(0.5))\r\n",
        "model.add(Dense(len(FONTS_TO_TRAIN), activation='softmax'))\r\n",
        "model.compile(loss='categorical_crossentropy',optimizer='adam',metrics=['accuracy'])\r\n",
        "\r\n",
        "history = model.fit(X_train, Y_train, batch_size=32, verbose=1, epochs=num_epoch)\r\n",
        "\r\n",
        "print(\r\n",
        "    \"Accuracy for\", num_epoch, \"epoch:\",\r\n",
        "    round(model.evaluate(X_test, Y_test)[1], 2) * 100,\r\n",
        "    \"%\"\r\n",
        ")"
      ],
      "execution_count": 18,
      "outputs": [
        {
          "output_type": "stream",
          "text": [
            "Epoch 1/20\n",
            "1213/1213 [==============================] - 30s 25ms/step - loss: 1.0119 - accuracy: 0.6391\n",
            "Epoch 2/20\n",
            "1213/1213 [==============================] - 30s 25ms/step - loss: 0.8202 - accuracy: 0.7072\n",
            "Epoch 3/20\n",
            "1213/1213 [==============================] - 29s 24ms/step - loss: 0.7417 - accuracy: 0.7335\n",
            "Epoch 4/20\n",
            "1213/1213 [==============================] - 30s 24ms/step - loss: 0.6883 - accuracy: 0.7516\n",
            "Epoch 5/20\n",
            "1213/1213 [==============================] - 30s 24ms/step - loss: 0.6471 - accuracy: 0.7644\n",
            "Epoch 6/20\n",
            "1213/1213 [==============================] - 29s 24ms/step - loss: 0.6160 - accuracy: 0.7745\n",
            "Epoch 7/20\n",
            "1213/1213 [==============================] - 29s 24ms/step - loss: 0.5925 - accuracy: 0.7806\n",
            "Epoch 8/20\n",
            "1213/1213 [==============================] - 30s 25ms/step - loss: 0.5692 - accuracy: 0.7868\n",
            "Epoch 9/20\n",
            "1213/1213 [==============================] - 29s 24ms/step - loss: 0.5523 - accuracy: 0.7940\n",
            "Epoch 10/20\n",
            "1213/1213 [==============================] - 30s 24ms/step - loss: 0.5382 - accuracy: 0.7981\n",
            "Epoch 11/20\n",
            "1213/1213 [==============================] - 30s 24ms/step - loss: 0.5254 - accuracy: 0.8005\n",
            "Epoch 12/20\n",
            "1213/1213 [==============================] - 30s 24ms/step - loss: 0.5166 - accuracy: 0.8034\n",
            "Epoch 13/20\n",
            "1213/1213 [==============================] - 29s 24ms/step - loss: 0.5026 - accuracy: 0.8067\n",
            "Epoch 14/20\n",
            "1213/1213 [==============================] - 30s 24ms/step - loss: 0.4926 - accuracy: 0.8121\n",
            "Epoch 15/20\n",
            "1213/1213 [==============================] - 29s 24ms/step - loss: 0.4837 - accuracy: 0.8135\n",
            "Epoch 16/20\n",
            "1213/1213 [==============================] - 30s 24ms/step - loss: 0.4787 - accuracy: 0.8142\n",
            "Epoch 17/20\n",
            "1213/1213 [==============================] - 30s 24ms/step - loss: 0.4675 - accuracy: 0.8182\n",
            "Epoch 18/20\n",
            "1213/1213 [==============================] - 30s 24ms/step - loss: 0.4617 - accuracy: 0.8228\n",
            "Epoch 19/20\n",
            "1213/1213 [==============================] - 29s 24ms/step - loss: 0.4540 - accuracy: 0.8228\n",
            "Epoch 20/20\n",
            "1213/1213 [==============================] - 30s 24ms/step - loss: 0.4484 - accuracy: 0.8258\n",
            "304/304 [==============================] - 2s 6ms/step - loss: 0.4322 - accuracy: 0.8330\n",
            "Accuracy for 18 epoch: 83.0 %\n"
          ],
          "name": "stdout"
        }
      ]
    },
    {
      "cell_type": "code",
      "metadata": {
        "colab": {
          "base_uri": "https://localhost:8080/"
        },
        "id": "T2YRuEtI_qsS",
        "outputId": "062b549c-f9c1-4ef2-bf6d-6a5f1da380b8"
      },
      "source": [
        "print(history.history)\r\n",
        "print(history.params)\r\n",
        "print(history.history.keys())"
      ],
      "execution_count": 33,
      "outputs": [
        {
          "output_type": "stream",
          "text": [
            "{'loss': [1.0119081735610962, 0.8202177286148071, 0.7416977882385254, 0.6883304119110107, 0.647102952003479, 0.6159635782241821, 0.5925074219703674, 0.5692232847213745, 0.5523486137390137, 0.538241446018219, 0.5253946781158447, 0.5166086554527283, 0.5025562644004822, 0.4925882816314697, 0.48373228311538696, 0.478728324174881, 0.4675075113773346, 0.4617479741573334, 0.4540475606918335, 0.44844576716423035], 'accuracy': [0.6390663385391235, 0.7072341442108154, 0.7334604263305664, 0.7515972852706909, 0.7644012570381165, 0.7745001912117004, 0.7806059122085571, 0.7867631912231445, 0.7939509749412537, 0.7980987429618835, 0.8005204200744629, 0.8033542633056641, 0.8067291975021362, 0.8120877742767334, 0.8135047554969788, 0.8142003417015076, 0.8181677460670471, 0.8228307962417603, 0.8227534890174866, 0.8257676959037781]}\n",
            "{'verbose': 1, 'epochs': 20, 'steps': 1213}\n",
            "dict_keys(['loss', 'accuracy'])\n"
          ],
          "name": "stdout"
        }
      ]
    },
    {
      "cell_type": "code",
      "metadata": {
        "id": "_NeofV2pBOMi"
      },
      "source": [
        "xc         = range(num_epoch)\r\n",
        "train_acc = history.history['accuracy']"
      ],
      "execution_count": 38,
      "outputs": []
    },
    {
      "cell_type": "code",
      "metadata": {
        "colab": {
          "base_uri": "https://localhost:8080/",
          "height": 282
        },
        "id": "lfwiYc3LB1Wn",
        "outputId": "31ec3b58-37fc-4749-fce0-597b7d1e6ea3"
      },
      "source": [
        "plt.figure()\r\n",
        "plt.plot(xc, train_acc)"
      ],
      "execution_count": 40,
      "outputs": [
        {
          "output_type": "execute_result",
          "data": {
            "text/plain": [
              "[<matplotlib.lines.Line2D at 0x7f12c162b400>]"
            ]
          },
          "metadata": {
            "tags": []
          },
          "execution_count": 40
        },
        {
          "output_type": "display_data",
          "data": {
            "image/png": "[encoded data removed]",
            "text/plain": [
              "<Figure size 432x288 with 1 Axes>"
            ]
          },
          "metadata": {
            "tags": [],
            "needs_background": "light"
          }
        }
      ]
    },
    {
      "cell_type": "code",
      "metadata": {
        "id": "6JVGEUNuBawC"
      },
      "source": [
        ""
      ],
      "execution_count": null,
      "outputs": []
    },
    {
      "cell_type": "code",
      "metadata": {
        "colab": {
          "base_uri": "https://localhost:8080/",
          "height": 296
        },
        "id": "vg2nb58sZw4R",
        "outputId": "d50d23ba-8153-43dc-9f7c-6c4d71be2dcf"
      },
      "source": [
        "# plt.plot(\r\n",
        "#     [x[1] for x in history.history], \r\n",
        "#     # [x[1] for x in history]\r\n",
        "# )\r\n",
        "# plt.xlabel('epoch number')\r\n",
        "# plt.ylabel('accuracy')"
      ],
      "execution_count": 29,
      "outputs": [
        {
          "output_type": "execute_result",
          "data": {
            "text/plain": [
              "Text(0, 0.5, 'accuracy')"
            ]
          },
          "metadata": {
            "tags": []
          },
          "execution_count": 29
        },
        {
          "output_type": "display_data",
          "data": {
            "image/png": "[encoded data removed]",
            "text/plain": [
              "<Figure size 432x288 with 1 Axes>"
            ]
          },
          "metadata": {
            "tags": [],
            "needs_background": "light"
          }
        }
      ]
    }
  ]
}